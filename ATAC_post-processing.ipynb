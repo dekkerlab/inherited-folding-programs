{
 "cells": [
  {
   "cell_type": "code",
   "execution_count": 53,
   "id": "aebae54a",
   "metadata": {},
   "outputs": [],
   "source": [
    "from scipy.sparse import coo_matrix\n",
    "import bioframe as bf\n",
    "import bioframe.vis\n",
    "import pandas as pd\n",
    "import numpy as np\n",
    "\n",
    "import matplotlib.pyplot as plt\n",
    "import matplotlib as mpl\n",
    "from matplotlib import gridspec\n",
    "from matplotlib import cm\n",
    "from matplotlib.gridspec import GridSpec\n",
    "from matplotlib.gridspec import GridSpecFromSubplotSpec\n",
    "import matplotlib.colors as colors\n",
    "from matplotlib.colors import ListedColormap\n",
    "%matplotlib inline\n",
    "\n",
    "from collections import Counter\n",
    "import itertools\n",
    "import sys\n",
    "from collections import OrderedDict\n",
    "import random\n",
    "import seaborn as sns\n",
    "import scipy\n",
    "import pickle\n"
   ]
  },
  {
   "cell_type": "markdown",
   "id": "d79951e9-25a8-4747-931e-36993b38c873",
   "metadata": {},
   "source": [
    "# post-processing: filtering"
   ]
  },
  {
   "cell_type": "code",
   "execution_count": 54,
   "id": "ece44227",
   "metadata": {},
   "outputs": [],
   "source": [
    "##nf-core atac pipeline was used in default mode to generate paired end bams.  \n",
    "##Downstream analysis and QC were done using ful reads (centres)\n",
    "##first I will call peaks using SE read ends of either full reads or reads <= 120bp for different analyses\n"
   ]
  },
  {
   "cell_type": "code",
   "execution_count": 55,
   "id": "fa66a69d",
   "metadata": {},
   "outputs": [],
   "source": [
    "#1. filter mapq30, dups, reduced chroms\n"
   ]
  },
  {
   "cell_type": "code",
   "execution_count": 56,
   "id": "f22dbb12",
   "metadata": {},
   "outputs": [],
   "source": [
    "# PCR dups,mapq30,keep paired\n",
    "# bam='/mG_REP1.mLb.clN.sorted.bam'\n",
    "# out='/mG_REP1.sorted.nodups.mapq30.t2.bam'\n",
    "# !bsub -q short -W 08:00 -n 4 -R \"span[hosts=1]\" -R \"rusage[mem=8000]\" \\\n",
    "#         \"samtools view -f 0x2 -q 30 -b -h -F 1024 $bam > $out\"\n",
    "    "
   ]
  },
  {
   "cell_type": "code",
   "execution_count": 57,
   "id": "69fd714b",
   "metadata": {},
   "outputs": [],
   "source": [
    "#sort (if done in separate steps)\n",
    "\n",
    "# bam='/mG_REP1.sorted.nodups.mapq30.t2.bam'\n",
    "# out='/mG_REP1.sorted.nodups.mapq30.t2.sorted.bam'\n",
    "# !bsub -q short -W 08:00 -n 4 -R \"span[hosts=1]\" -R \"rusage[mem=8000]\" \\\n",
    "#         \"samtools sort $bam > $out\"\n",
    "    "
   ]
  },
  {
   "cell_type": "code",
   "execution_count": 58,
   "id": "29ebf057",
   "metadata": {},
   "outputs": [],
   "source": [
    "#index\n",
    "# bam='/mG_REP1.sorted.nodups.mapq30.t2.sorted.bam'\n",
    "# !bsub -q short -W 08:00 -n 4 -R \"span[hosts=1]\" -R \"rusage[mem=8000]\" \\\n",
    "#         \"samtools index $bam\"\n",
    "    "
   ]
  },
  {
   "cell_type": "code",
   "execution_count": 59,
   "id": "874efadf",
   "metadata": {},
   "outputs": [],
   "source": [
    "#keep only chroms (no M)\n",
    "\n",
    "# bam='mG_REP1.sorted.nodups.mapq30.t2.sorted.bam'\n",
    "# out='/mG_REP1.sorted.nodups.mapq30.t2.sorted.reducedchroms.bam'\n",
    "# !bsub -q short -W 08:00 -n 4 -R \"span[hosts=1]\" -R \"rusage[mem=8000]\" \\\n",
    "#         \"samtools view -h $bam chr1 chr2 chr3 chr4 chr5 chr6 chr7 chr8 chr9 chr10 chr11 chr12 chr13 chr14 chr15 chr16 chr17 chr18 chr19 chr20 chr21 chr22 > $out\"\n"
   ]
  },
  {
   "cell_type": "code",
   "execution_count": 60,
   "id": "68e72562",
   "metadata": {},
   "outputs": [],
   "source": [
    "#sort again\n",
    "\n",
    "# bam='/mG_REP1.sorted.nodups.mapq30.t2.sorted.reducedchroms.bam'\n",
    "# out='/mG_REP1.nodups.mapq30.t2.sorted.reducedchroms.sorted.bam'\n",
    "# !bsub -q short -W 08:00 -n 4 -R \"span[hosts=1]\" -R \"rusage[mem=8000]\" \\\n",
    "#         \"samtools sort $bam > $out\"\n"
   ]
  },
  {
   "cell_type": "code",
   "execution_count": 61,
   "id": "4b4b92d4",
   "metadata": {},
   "outputs": [],
   "source": [
    "#index again\n",
    "\n",
    "# bam='/mG_REP1.nodups.mapq30.t2.sorted.reducedchroms.sorted.bam'\n",
    "# !bsub -q short -W 08:00 -n 4 -R \"span[hosts=1]\" -R \"rusage[mem=8000]\" \\\n",
    "#         \"samtools index $bam\"\n",
    "    "
   ]
  },
  {
   "cell_type": "markdown",
   "id": "2b196227",
   "metadata": {},
   "source": [
    "# <120bp reads (can center for peak calling)\n"
   ]
  },
  {
   "cell_type": "code",
   "execution_count": 62,
   "id": "a0d00524",
   "metadata": {},
   "outputs": [],
   "source": [
    "#if desired keep only < 120bp frags\n",
    "\n",
    "# bam='/mG_REP1.nodups.mapq30.t2.sorted.reducedchroms.sorted.bam'\n",
    "# out='/mG_REP1.nodups.mapq30.t2.sorted.reducedchroms.sorted.FL120.bam'\n",
    "# !samtools view -h $bam | awk 'substr($0,1,1)==\"@\" || ($9>= 0 && $9<=120) || ($9<=0 && $9>=-120)' | samtools view -b > $out\n"
   ]
  },
  {
   "cell_type": "code",
   "execution_count": 63,
   "id": "dea2e95e",
   "metadata": {},
   "outputs": [],
   "source": [
    "#sort again\n",
    "\n",
    "# bam='/mG_REP1.nodups.mapq30.t2.sorted.reducedchroms.sorted.FL120.bam'\n",
    "# out='mG_REP1.nodups.mapq30.t2.sorted.reducedchroms.sorted.FL120.sorted.bam'\n",
    "# !bsub -q short -W 08:00 -n 4 -R \"span[hosts=1]\" -R \"rusage[mem=8000]\" \\\n",
    "#         \"samtools sort $bam > $out\"\n",
    "    "
   ]
  },
  {
   "cell_type": "code",
   "execution_count": 64,
   "id": "29a8282b",
   "metadata": {},
   "outputs": [],
   "source": [
    "#index again\n",
    "\n",
    "# bam='/mG_REP1.nodups.mapq30.t2.sorted.reducedchroms.sorted.FL120.sorted.bam'\n",
    "# !bsub -q short -W 08:00 -n 4 -R \"span[hosts=1]\" -R \"rusage[mem=8000]\" \\\n",
    "#         \"samtools index $bam\"\n",
    "    "
   ]
  },
  {
   "cell_type": "markdown",
   "id": "0c68531a",
   "metadata": {},
   "source": [
    "# single end bed for peak calling: keep ends"
   ]
  },
  {
   "cell_type": "code",
   "execution_count": 65,
   "id": "0987d1a7",
   "metadata": {},
   "outputs": [],
   "source": [
    "#make single end bed. the samtoolsflags uneccessary given the above filtering steps\n",
    "\n",
    "# bam='/pM_REP2.nodups.mapq30.t2.sorted.reducedchroms.sorted.bam'\n",
    "# out='/pM_REP2.reducedchroms.sorted.bed'\n",
    "# !bsub -q short -W 08:00 -n 4 -R \"span[hosts=1]\" -R \"rusage[mem=8000]\" \\\n",
    "#         \"samtools view -bf 0x2 $bam | bedtools bamtobed -i stdin >| $out\"\n"
   ]
  },
  {
   "cell_type": "markdown",
   "id": "713439c4-abb8-40b7-97be-a37874e5d9bc",
   "metadata": {},
   "source": [
    "# shift reads for tn5"
   ]
  },
  {
   "cell_type": "code",
   "execution_count": 66,
   "id": "f66701b7",
   "metadata": {},
   "outputs": [],
   "source": [
    "\n",
    "#!cat /Mp.reducedchroms.sorted.bed | awk -F $'\\t' 'BEGIN {OFS = FS}{ if ($6 == \"+\") {$2= $2 + 4} else if ($6 == \"-\") {$3 = $3 - 5} print $0}' >| /Mp.reducedchroms.sorted.p4m5.bed\n",
    "\n",
    "##for coverage, keep only end, so make 2nd step:\n",
    "#!cat /Mp.reducedchroms.sorted.p4m5.bed | awk -F $'\\t' 'BEGIN {OFS = FS}{ if ($6 == \"+\") {$2= $2-1;$3 = $2 + 2;} else if ($6 == \"-\") {$3 = $3 + 1;$2 = $3 - 2;} print $0}' >| Mp.reducedchroms.sorted.p4m5_ends.bed\n",
    "\n"
   ]
  },
  {
   "cell_type": "markdown",
   "id": "89577141",
   "metadata": {},
   "source": [
    "# make pooled mitotic set"
   ]
  },
  {
   "cell_type": "code",
   "execution_count": 67,
   "id": "66d0e46c",
   "metadata": {},
   "outputs": [],
   "source": [
    "#sort -k1,1 -k2,2n mM_R1.reducedchroms.sorted.p4m5.bed pM_R1.reducedchroms.sorted.p4m5.bed > MR1.reducedchroms.sorted.p4m5.bed\n",
    "#sort -k1,1 -k2,2n mM_R2.reducedchroms.sorted.p4m5.bed pM_R2.reducedchroms.sorted.p4m5.bed > MR2.reducedchroms.sorted.p4m5.bed\n",
    "#sort -k1,1 -k2,2n mMp.reducedchroms.sorted.p4m5.sorted.bed pMp.reducedchroms.sorted.p4m5.sorted.bed > Mp.reducedchroms.sorted.p4m5.sorted.bed\n"
   ]
  },
  {
   "cell_type": "markdown",
   "id": "21d7a933",
   "metadata": {},
   "source": [
    "# make bigwigs scaled to 10E6 reads\n"
   ]
  },
  {
   "cell_type": "code",
   "execution_count": 68,
   "id": "bab318d4-4577-4563-9b55-03817e4106c3",
   "metadata": {},
   "outputs": [],
   "source": [
    "  # 191456639 pG_REP1.reducedchroms.sorted.p4m5.ends.bed 0.05223114775351301\n",
    "  # 146370798 pG_REP2.reducedchroms.sorted.p4m5.ends.bed 0.06831963845684574\n",
    "  # 200086671 pM_REP1.reducedchroms.sorted.p4m5.ends.bed 0.04997834163576043\n",
    "  # 117654257 pM_REP2.reducedchroms.sorted.p4m5.ends.bed 0.0849947996356817\n",
    "  # 184887917 mG_REP1.reducedchroms.sorted.p4m5.ends.bed 0.054086822774903134\n",
    "  # 163581501 mG_REP2.reducedchroms.sorted.p4m5.ends.bed 0.06113160680681124\n",
    "  # 147253247 mM_REP1.reducedchroms.sorted.p4m5.ends.bed 0.06791021728709316\n",
    "  # 151592262 mM_REP2.reducedchroms.sorted.p4m5.ends.bed 0.06596642775869391\n"
   ]
  },
  {
   "cell_type": "code",
   "execution_count": 69,
   "id": "439e7000",
   "metadata": {},
   "outputs": [],
   "source": [
    "#genomecov bed\n",
    "\n",
    "# bed='/mM_REP2.reducedchroms.sorted.p4m5.ends.bed'\n",
    "# chroms='/hg38.reduced.chrom.sizes'\n",
    "# out='/mM_REP2.genomcov.scaled.bed'\n",
    "# !bsub -q short -W 04:00 -n 2 -R \"span[hosts=1]\" -R \"rusage[mem=8000]\" \\\n",
    "#         \"bedtools genomecov -bg -scale 0.06596642775869391 -i $bed -g $chroms > $out\" \n"
   ]
  },
  {
   "cell_type": "code",
   "execution_count": 70,
   "id": "b2a50402-aede-4cdf-9ef6-64a30b24c2dd",
   "metadata": {},
   "outputs": [],
   "source": [
    "#sort genomecov bed\n",
    "\n",
    "# bed1='/mM_REP2.genomcov.scaled.bed'\n",
    "# out='/mM_REP2.genomcov.scaled.sorted.bed'\n",
    "# !bsub -q short -W 04:00 -n 2 -R \"span[hosts=1]\" -R \"rusage[mem=8000]\" \\\n",
    "#         \"sort -k1,1 -k2,2n $bed1 > $out\"\n"
   ]
  },
  {
   "cell_type": "code",
   "execution_count": 71,
   "id": "2840a742",
   "metadata": {},
   "outputs": [],
   "source": [
    "#bedGraphToBigWig myFile_sorted.bedgraph myChrom.sizes myBigWig.bw\n",
    "\n"
   ]
  },
  {
   "cell_type": "markdown",
   "id": "6babf8f3-ca30-4bca-809e-a28b88a9aa07",
   "metadata": {},
   "source": [
    "# fragment length distributions"
   ]
  },
  {
   "cell_type": "code",
   "execution_count": 72,
   "id": "40ef8178-5991-4a46-8437-1cc6efa70e38",
   "metadata": {},
   "outputs": [],
   "source": [
    "#ie\n",
    "# bam='pGp.nodups.mapq30.t2.sorted.reducedchroms.sorted.bam' \n",
    "# out='/fld/pGp' \n",
    "# !bsub -q short -W 08:00 -n 4 -R \"span[hosts=1]\" -R \"rusage[mem=8000]\" \\\n",
    "#     \"bamPEFragmentSize --bamfiles --out $out\"\n"
   ]
  },
  {
   "cell_type": "code",
   "execution_count": 73,
   "id": "b014c58f-7f29-4797-bd7a-fa404c394229",
   "metadata": {},
   "outputs": [
    {
     "data": {
      "text/html": [
       "<div>\n",
       "<style scoped>\n",
       "    .dataframe tbody tr th:only-of-type {\n",
       "        vertical-align: middle;\n",
       "    }\n",
       "\n",
       "    .dataframe tbody tr th {\n",
       "        vertical-align: top;\n",
       "    }\n",
       "\n",
       "    .dataframe thead th {\n",
       "        text-align: right;\n",
       "    }\n",
       "</style>\n",
       "<table border=\"1\" class=\"dataframe\">\n",
       "  <thead>\n",
       "    <tr style=\"text-align: right;\">\n",
       "      <th></th>\n",
       "      <th>Size</th>\n",
       "      <th>Occurrences</th>\n",
       "      <th>Sample</th>\n",
       "      <th>frac</th>\n",
       "    </tr>\n",
       "  </thead>\n",
       "  <tbody>\n",
       "    <tr>\n",
       "      <th>0</th>\n",
       "      <td>26</td>\n",
       "      <td>21</td>\n",
       "      <td>/home/allana.schooley-umw/as38w/Ranger/atac/nf...</td>\n",
       "      <td>0.000137</td>\n",
       "    </tr>\n",
       "    <tr>\n",
       "      <th>1</th>\n",
       "      <td>27</td>\n",
       "      <td>40</td>\n",
       "      <td>/home/allana.schooley-umw/as38w/Ranger/atac/nf...</td>\n",
       "      <td>0.000261</td>\n",
       "    </tr>\n",
       "    <tr>\n",
       "      <th>2</th>\n",
       "      <td>28</td>\n",
       "      <td>49</td>\n",
       "      <td>/home/allana.schooley-umw/as38w/Ranger/atac/nf...</td>\n",
       "      <td>0.000319</td>\n",
       "    </tr>\n",
       "    <tr>\n",
       "      <th>3</th>\n",
       "      <td>29</td>\n",
       "      <td>57</td>\n",
       "      <td>/home/allana.schooley-umw/as38w/Ranger/atac/nf...</td>\n",
       "      <td>0.000371</td>\n",
       "    </tr>\n",
       "    <tr>\n",
       "      <th>4</th>\n",
       "      <td>30</td>\n",
       "      <td>47</td>\n",
       "      <td>/home/allana.schooley-umw/as38w/Ranger/atac/nf...</td>\n",
       "      <td>0.000306</td>\n",
       "    </tr>\n",
       "    <tr>\n",
       "      <th>...</th>\n",
       "      <td>...</td>\n",
       "      <td>...</td>\n",
       "      <td>...</td>\n",
       "      <td>...</td>\n",
       "    </tr>\n",
       "    <tr>\n",
       "      <th>1088</th>\n",
       "      <td>1143</td>\n",
       "      <td>2</td>\n",
       "      <td>/home/allana.schooley-umw/as38w/Ranger/atac/nf...</td>\n",
       "      <td>0.000012</td>\n",
       "    </tr>\n",
       "    <tr>\n",
       "      <th>1089</th>\n",
       "      <td>1149</td>\n",
       "      <td>1</td>\n",
       "      <td>/home/allana.schooley-umw/as38w/Ranger/atac/nf...</td>\n",
       "      <td>0.000006</td>\n",
       "    </tr>\n",
       "    <tr>\n",
       "      <th>1090</th>\n",
       "      <td>1153</td>\n",
       "      <td>1</td>\n",
       "      <td>/home/allana.schooley-umw/as38w/Ranger/atac/nf...</td>\n",
       "      <td>0.000006</td>\n",
       "    </tr>\n",
       "    <tr>\n",
       "      <th>1091</th>\n",
       "      <td>1154</td>\n",
       "      <td>1</td>\n",
       "      <td>/home/allana.schooley-umw/as38w/Ranger/atac/nf...</td>\n",
       "      <td>0.000006</td>\n",
       "    </tr>\n",
       "    <tr>\n",
       "      <th>1092</th>\n",
       "      <td>1175</td>\n",
       "      <td>1</td>\n",
       "      <td>/home/allana.schooley-umw/as38w/Ranger/atac/nf...</td>\n",
       "      <td>0.000006</td>\n",
       "    </tr>\n",
       "  </tbody>\n",
       "</table>\n",
       "<p>2143 rows × 4 columns</p>\n",
       "</div>"
      ],
      "text/plain": [
       "      Size  Occurrences                                             Sample  \\\n",
       "0       26           21  /home/allana.schooley-umw/as38w/Ranger/atac/nf...   \n",
       "1       27           40  /home/allana.schooley-umw/as38w/Ranger/atac/nf...   \n",
       "2       28           49  /home/allana.schooley-umw/as38w/Ranger/atac/nf...   \n",
       "3       29           57  /home/allana.schooley-umw/as38w/Ranger/atac/nf...   \n",
       "4       30           47  /home/allana.schooley-umw/as38w/Ranger/atac/nf...   \n",
       "...    ...          ...                                                ...   \n",
       "1088  1143            2  /home/allana.schooley-umw/as38w/Ranger/atac/nf...   \n",
       "1089  1149            1  /home/allana.schooley-umw/as38w/Ranger/atac/nf...   \n",
       "1090  1153            1  /home/allana.schooley-umw/as38w/Ranger/atac/nf...   \n",
       "1091  1154            1  /home/allana.schooley-umw/as38w/Ranger/atac/nf...   \n",
       "1092  1175            1  /home/allana.schooley-umw/as38w/Ranger/atac/nf...   \n",
       "\n",
       "          frac  \n",
       "0     0.000137  \n",
       "1     0.000261  \n",
       "2     0.000319  \n",
       "3     0.000371  \n",
       "4     0.000306  \n",
       "...        ...  \n",
       "1088  0.000012  \n",
       "1089  0.000006  \n",
       "1090  0.000006  \n",
       "1091  0.000006  \n",
       "1092  0.000006  \n",
       "\n",
       "[2143 rows x 4 columns]"
      ]
     },
     "execution_count": 73,
     "metadata": {},
     "output_type": "execute_result"
    }
   ],
   "source": [
    "mm3=pd.read_csv('/home/allana.schooley-umw/as38w/Ranger/atac/nfatac_wbl_R1R3/result/filtered/fld/mMp', sep='\\t', skiprows=1)\n",
    "mm3['frac']=(mm3['Occurrences']/mm3['Occurrences'].sum()).astype('float64')\n",
    "pm3=pd.read_csv('/home/allana.schooley-umw/as38w/Ranger/atac/nfatac_wbl_R1R3/result/filtered/fld/pMp', sep='\\t', skiprows=1)\n",
    "pm3['frac']=(pm3['Occurrences']/pm3['Occurrences'].sum()).astype('float64')\n",
    "mg3=pd.read_csv('/home/allana.schooley-umw/as38w/Ranger/atac/nfatac_wbl_R1R3/result/filtered/fld/mGp', sep='\\t', skiprows=1)\n",
    "mg3['frac']=(mg3['Occurrences']/mg3['Occurrences'].sum()).astype('float64')\n",
    "pg3=pd.read_csv('/home/allana.schooley-umw/as38w/Ranger/atac/nfatac_wbl_R1R3/result/filtered/fld/pGp', sep='\\t', skiprows=1)\n",
    "pg3['frac']=(pg3['Occurrences']/pg3['Occurrences'].sum()).astype('float64')\n",
    "\n",
    "mp=pd.concat([mm3,pm3])\n",
    "\n",
    "mp\n"
   ]
  },
  {
   "cell_type": "code",
   "execution_count": 51,
   "id": "b7192c00-1eee-4007-8fe2-724fae879f66",
   "metadata": {},
   "outputs": [
    {
     "name": "stderr",
     "output_type": "stream",
     "text": [
      "/tmp/ipykernel_56122/3163636929.py:15: FutureWarning: The default of observed=False is deprecated and will be changed to True in a future version of pandas. Pass observed=False to retain current behavior or observed=True to adopt the future default and silence this warning.\n",
      "  s1=df1.groupby(cut1).agg({'Occurrences':'sum','frac':'sum'})\n",
      "/tmp/ipykernel_56122/3163636929.py:21: FutureWarning: The default of observed=False is deprecated and will be changed to True in a future version of pandas. Pass observed=False to retain current behavior or observed=True to adopt the future default and silence this warning.\n",
      "  s2=df2.groupby(cut2).agg({'Occurrences':'sum','frac':'sum'})\n",
      "/tmp/ipykernel_56122/3163636929.py:27: FutureWarning: The default of observed=False is deprecated and will be changed to True in a future version of pandas. Pass observed=False to retain current behavior or observed=True to adopt the future default and silence this warning.\n",
      "  s3=df3.groupby(cut3).agg({'Occurrences':'sum','frac':'sum'})\n",
      "/tmp/ipykernel_56122/3163636929.py:33: FutureWarning: The default of observed=False is deprecated and will be changed to True in a future version of pandas. Pass observed=False to retain current behavior or observed=True to adopt the future default and silence this warning.\n",
      "  s4=df4.groupby(cut4).agg({'Occurrences':'sum','frac':'sum'})\n"
     ]
    },
    {
     "data": {
      "text/html": [
       "<div>\n",
       "<style scoped>\n",
       "    .dataframe tbody tr th:only-of-type {\n",
       "        vertical-align: middle;\n",
       "    }\n",
       "\n",
       "    .dataframe tbody tr th {\n",
       "        vertical-align: top;\n",
       "    }\n",
       "\n",
       "    .dataframe thead th {\n",
       "        text-align: right;\n",
       "    }\n",
       "</style>\n",
       "<table border=\"1\" class=\"dataframe\">\n",
       "  <thead>\n",
       "    <tr style=\"text-align: right;\">\n",
       "      <th></th>\n",
       "      <th>Size</th>\n",
       "      <th>Occurrences</th>\n",
       "      <th>Sample</th>\n",
       "      <th>frac</th>\n",
       "    </tr>\n",
       "  </thead>\n",
       "  <tbody>\n",
       "    <tr>\n",
       "      <th>0</th>\n",
       "      <td>26</td>\n",
       "      <td>21</td>\n",
       "      <td>/home/allana.schooley-umw/as38w/Ranger/atac/nf...</td>\n",
       "      <td>0.000137</td>\n",
       "    </tr>\n",
       "    <tr>\n",
       "      <th>1</th>\n",
       "      <td>27</td>\n",
       "      <td>40</td>\n",
       "      <td>/home/allana.schooley-umw/as38w/Ranger/atac/nf...</td>\n",
       "      <td>0.000261</td>\n",
       "    </tr>\n",
       "    <tr>\n",
       "      <th>2</th>\n",
       "      <td>28</td>\n",
       "      <td>49</td>\n",
       "      <td>/home/allana.schooley-umw/as38w/Ranger/atac/nf...</td>\n",
       "      <td>0.000319</td>\n",
       "    </tr>\n",
       "    <tr>\n",
       "      <th>3</th>\n",
       "      <td>29</td>\n",
       "      <td>57</td>\n",
       "      <td>/home/allana.schooley-umw/as38w/Ranger/atac/nf...</td>\n",
       "      <td>0.000371</td>\n",
       "    </tr>\n",
       "    <tr>\n",
       "      <th>4</th>\n",
       "      <td>30</td>\n",
       "      <td>47</td>\n",
       "      <td>/home/allana.schooley-umw/as38w/Ranger/atac/nf...</td>\n",
       "      <td>0.000306</td>\n",
       "    </tr>\n",
       "    <tr>\n",
       "      <th>...</th>\n",
       "      <td>...</td>\n",
       "      <td>...</td>\n",
       "      <td>...</td>\n",
       "      <td>...</td>\n",
       "    </tr>\n",
       "    <tr>\n",
       "      <th>1088</th>\n",
       "      <td>1143</td>\n",
       "      <td>2</td>\n",
       "      <td>/home/allana.schooley-umw/as38w/Ranger/atac/nf...</td>\n",
       "      <td>0.000012</td>\n",
       "    </tr>\n",
       "    <tr>\n",
       "      <th>1089</th>\n",
       "      <td>1149</td>\n",
       "      <td>1</td>\n",
       "      <td>/home/allana.schooley-umw/as38w/Ranger/atac/nf...</td>\n",
       "      <td>0.000006</td>\n",
       "    </tr>\n",
       "    <tr>\n",
       "      <th>1090</th>\n",
       "      <td>1153</td>\n",
       "      <td>1</td>\n",
       "      <td>/home/allana.schooley-umw/as38w/Ranger/atac/nf...</td>\n",
       "      <td>0.000006</td>\n",
       "    </tr>\n",
       "    <tr>\n",
       "      <th>1091</th>\n",
       "      <td>1154</td>\n",
       "      <td>1</td>\n",
       "      <td>/home/allana.schooley-umw/as38w/Ranger/atac/nf...</td>\n",
       "      <td>0.000006</td>\n",
       "    </tr>\n",
       "    <tr>\n",
       "      <th>1092</th>\n",
       "      <td>1175</td>\n",
       "      <td>1</td>\n",
       "      <td>/home/allana.schooley-umw/as38w/Ranger/atac/nf...</td>\n",
       "      <td>0.000006</td>\n",
       "    </tr>\n",
       "  </tbody>\n",
       "</table>\n",
       "<p>2143 rows × 4 columns</p>\n",
       "</div>"
      ],
      "text/plain": [
       "      Size  Occurrences                                             Sample  \\\n",
       "0       26           21  /home/allana.schooley-umw/as38w/Ranger/atac/nf...   \n",
       "1       27           40  /home/allana.schooley-umw/as38w/Ranger/atac/nf...   \n",
       "2       28           49  /home/allana.schooley-umw/as38w/Ranger/atac/nf...   \n",
       "3       29           57  /home/allana.schooley-umw/as38w/Ranger/atac/nf...   \n",
       "4       30           47  /home/allana.schooley-umw/as38w/Ranger/atac/nf...   \n",
       "...    ...          ...                                                ...   \n",
       "1088  1143            2  /home/allana.schooley-umw/as38w/Ranger/atac/nf...   \n",
       "1089  1149            1  /home/allana.schooley-umw/as38w/Ranger/atac/nf...   \n",
       "1090  1153            1  /home/allana.schooley-umw/as38w/Ranger/atac/nf...   \n",
       "1091  1154            1  /home/allana.schooley-umw/as38w/Ranger/atac/nf...   \n",
       "1092  1175            1  /home/allana.schooley-umw/as38w/Ranger/atac/nf...   \n",
       "\n",
       "          frac  \n",
       "0     0.000137  \n",
       "1     0.000261  \n",
       "2     0.000319  \n",
       "3     0.000371  \n",
       "4     0.000306  \n",
       "...        ...  \n",
       "1088  0.000012  \n",
       "1089  0.000006  \n",
       "1090  0.000006  \n",
       "1091  0.000006  \n",
       "1092  0.000006  \n",
       "\n",
       "[2143 rows x 4 columns]"
      ]
     },
     "execution_count": 51,
     "metadata": {},
     "output_type": "execute_result"
    }
   ],
   "source": [
    "#to bin in5bp intervals\n",
    "#bins = np.linspace(0, 1000, 201)\n",
    "#skip zero bins since reads > 25bp only were kept\n",
    "bins = np.linspace(25, 1015, 199)\n",
    "\n",
    "#mm3_tocut=mm3[(mm3['Size']<=1000)]\n",
    "cut1=pd.cut(mm3['Size'], bins)\n",
    "#mg3_tocut=mg3[(mg3['Size']<=1000)]\n",
    "cut2=pd.cut(mg3['Size'], bins)\n",
    "#pg3_tocut=pg3[(pg3['Size']<=1000)]\n",
    "cut3=pd.cut(pg3['Size'], bins)\n",
    "cut4=pd.cut(mp['Size'],bins)\n",
    "\n",
    "df1=mm3\n",
    "s1=df1.groupby(cut1).agg({'Occurrences':'sum','frac':'sum'})\n",
    "#s1.E=s1.index.map(lambda x :x.left)\n",
    "s1.reset_index(drop=True,inplace=True)\n",
    "s1['newfrac']=(s1['Occurrences']/mm3['Occurrences'].sum())/5\n",
    "\n",
    "df2=mg3\n",
    "s2=df2.groupby(cut2).agg({'Occurrences':'sum','frac':'sum'})\n",
    "#s2.E=s2.index.map(lambda x :x.left)\n",
    "s2.reset_index(drop=True,inplace=True)\n",
    "s2['newfrac']=(s2['Occurrences']/mg3['Occurrences'].sum())/5\n",
    "\n",
    "df3=pg3\n",
    "s3=df3.groupby(cut3).agg({'Occurrences':'sum','frac':'sum'})\n",
    "#s3.E=s3.index.map(lambda x :x.left)\n",
    "s3.reset_index(drop=True,inplace=True)\n",
    "s3['newfrac']=(s3['Occurrences']/pg3['Occurrences'].sum())/5\n",
    "\n",
    "df4=mp\n",
    "s4=df4.groupby(cut4).agg({'Occurrences':'sum','frac':'sum'})\n",
    "#s3.E=s3.index.map(lambda x :x.left)\n",
    "s4.reset_index(drop=True,inplace=True)\n",
    "s4['newfrac']=(s4['Occurrences']/mp['Occurrences'].sum())/5\n",
    "\n",
    "mp"
   ]
  },
  {
   "cell_type": "code",
   "execution_count": 52,
   "id": "98e5f6bc-cccc-42e1-83e3-01a73f9eb46f",
   "metadata": {},
   "outputs": [
    {
     "data": {
      "text/plain": [
       "<matplotlib.legend.Legend at 0x147df2c3e0d0>"
      ]
     },
     "execution_count": 52,
     "metadata": {},
     "output_type": "execute_result"
    },
    {
     "data": {
      "image/png": "[encoded data removed]",
      "text/plain": [
       "<Figure size 300x300 with 1 Axes>"
      ]
     },
     "metadata": {},
     "output_type": "display_data"
    }
   ],
   "source": [
    "# plot binned data\n",
    "fig, ax = plt.subplots(nrows=1, ncols=1,figsize=(3,3))\n",
    "\n",
    "\n",
    "ax.plot(s4['newfrac'],lw=1,color='black',label='Mitotic')\n",
    "ax.plot(s2['newfrac'],lw=1,color='blue', label='G1 ctrl')\n",
    "ax.plot(s3['newfrac'],lw=1,color='red', label='G1 Δ RanGAP1')\n",
    "\n",
    "ax.set_yscale('log')\n",
    "ax.set_ylim(0.00001,0.012)\n",
    "ax.set_xlim(-4,205)\n",
    "ax.set_xticks([0,40,80,120,160,200])\n",
    "ax.set_xticklabels([0,200,400,600,800,1000],visible=True)\n",
    "ax.xaxis.set_ticks_position(\"bottom\")\n",
    "\n",
    "ax.spines['right'].set_visible(False)\n",
    "ax.spines['top'].set_visible(False)\n",
    "ax.set_ylabel('Log-normalised frequency')\n",
    "ax.set_xlabel('Fragment length (bp)')\n",
    "ax.grid(axis='x',color='grey', linewidth=0.5 , ls=':')\n",
    "ax.grid(axis='y',color='grey', linewidth=0.5 , ls=':')\n",
    "\n",
    "plt.legend()\n",
    "ax.legend(bbox_to_anchor=(1.7, 1.025))\n",
    "\n",
    "#plt.savefig('.pdf',dpi=300,bbox_inches='tight')\n"
   ]
  },
  {
   "cell_type": "code",
   "execution_count": null,
   "id": "4dea3221-c1ff-4bd1-bd26-b628f1299e7e",
   "metadata": {},
   "outputs": [],
   "source": []
  }
 ],
 "metadata": {
  "kernelspec": {
   "display_name": "Python 3 (ipykernel)",
   "language": "python",
   "name": "python3"
  },
  "language_info": {
   "codemirror_mode": {
    "name": "ipython",
    "version": 3
   },
   "file_extension": ".py",
   "mimetype": "text/x-python",
   "name": "python",
   "nbconvert_exporter": "python",
   "pygments_lexer": "ipython3",
   "version": "3.9.19"
  }
 },
 "nbformat": 4,
 "nbformat_minor": 5
}
