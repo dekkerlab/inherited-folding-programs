{
 "cells": [
  {
   "cell_type": "code",
   "execution_count": 1,
   "id": "aebae54a",
   "metadata": {},
   "outputs": [],
   "source": [
    "from scipy.sparse import coo_matrix\n",
    "import bioframe as bf\n",
    "import bioframe.vis\n",
    "import pandas as pd\n",
    "import numpy as np\n",
    "\n",
    "import matplotlib.pyplot as plt\n",
    "import matplotlib as mpl\n",
    "from matplotlib import gridspec\n",
    "from matplotlib import cm\n",
    "from matplotlib.gridspec import GridSpec\n",
    "from matplotlib.gridspec import GridSpecFromSubplotSpec\n",
    "import matplotlib.colors as colors\n",
    "from matplotlib.colors import ListedColormap\n",
    "%matplotlib inline\n",
    "\n",
    "from collections import Counter\n",
    "import itertools\n",
    "import sys\n",
    "from collections import OrderedDict\n",
    "import random\n",
    "import seaborn as sns\n",
    "import scipy\n",
    "import pickle\n"
   ]
  },
  {
   "cell_type": "markdown",
   "id": "d79951e9-25a8-4747-931e-36993b38c873",
   "metadata": {},
   "source": [
    "# post-processing: filtering"
   ]
  },
  {
   "cell_type": "code",
   "execution_count": 2,
   "id": "ece44227",
   "metadata": {},
   "outputs": [],
   "source": [
    "##nf-core atac pipeline was used in default mode to generate paired end bams.  \n",
    "##Downstream analysis and QC were done using ful reads (centres)\n",
    "##first I will call peaks using SE read ends of either full reads or reads <= 120bp for different analyses\n"
   ]
  },
  {
   "cell_type": "code",
   "execution_count": 3,
   "id": "fa66a69d",
   "metadata": {},
   "outputs": [],
   "source": [
    "#1. filter mapq30, dups, reduced chroms\n"
   ]
  },
  {
   "cell_type": "code",
   "execution_count": 4,
   "id": "f22dbb12",
   "metadata": {},
   "outputs": [],
   "source": [
    "# PCR dups,mapq30,keep paired\n",
    "# bam='/mG_REP1.mLb.clN.sorted.bam'\n",
    "# out='/mG_REP1.sorted.nodups.mapq30.t2.bam'\n",
    "# !bsub -q short -W 08:00 -n 4 -R \"span[hosts=1]\" -R \"rusage[mem=8000]\" \\\n",
    "#         \"samtools view -f 0x2 -q 30 -b -h -F 1024 $bam > $out\"\n",
    "    "
   ]
  },
  {
   "cell_type": "code",
   "execution_count": 5,
   "id": "69fd714b",
   "metadata": {},
   "outputs": [],
   "source": [
    "#sort (if done in separate steps)\n",
    "\n",
    "# bam='/mG_REP1.sorted.nodups.mapq30.t2.bam'\n",
    "# out='/mG_REP1.sorted.nodups.mapq30.t2.sorted.bam'\n",
    "# !bsub -q short -W 08:00 -n 4 -R \"span[hosts=1]\" -R \"rusage[mem=8000]\" \\\n",
    "#         \"samtools sort $bam > $out\"\n",
    "    "
   ]
  },
  {
   "cell_type": "code",
   "execution_count": 6,
   "id": "29ebf057",
   "metadata": {},
   "outputs": [],
   "source": [
    "#index\n",
    "# bam='/mG_REP1.sorted.nodups.mapq30.t2.sorted.bam'\n",
    "# !bsub -q short -W 08:00 -n 4 -R \"span[hosts=1]\" -R \"rusage[mem=8000]\" \\\n",
    "#         \"samtools index $bam\"\n",
    "    "
   ]
  },
  {
   "cell_type": "code",
   "execution_count": 7,
   "id": "874efadf",
   "metadata": {},
   "outputs": [],
   "source": [
    "#keep only chroms (no M)\n",
    "\n",
    "# bam='mG_REP1.sorted.nodups.mapq30.t2.sorted.bam'\n",
    "# out='/mG_REP1.sorted.nodups.mapq30.t2.sorted.reducedchroms.bam'\n",
    "# !bsub -q short -W 08:00 -n 4 -R \"span[hosts=1]\" -R \"rusage[mem=8000]\" \\\n",
    "#         \"samtools view -h $bam chr1 chr2 chr3 chr4 chr5 chr6 chr7 chr8 chr9 chr10 chr11 chr12 chr13 chr14 chr15 chr16 chr17 chr18 chr19 chr20 chr21 chr22 > $out\"\n"
   ]
  },
  {
   "cell_type": "code",
   "execution_count": 8,
   "id": "68e72562",
   "metadata": {},
   "outputs": [],
   "source": [
    "#sort again\n",
    "\n",
    "# bam='/mG_REP1.sorted.nodups.mapq30.t2.sorted.reducedchroms.bam'\n",
    "# out='/mG_REP1.nodups.mapq30.t2.sorted.reducedchroms.sorted.bam'\n",
    "# !bsub -q short -W 08:00 -n 4 -R \"span[hosts=1]\" -R \"rusage[mem=8000]\" \\\n",
    "#         \"samtools sort $bam > $out\"\n"
   ]
  },
  {
   "cell_type": "code",
   "execution_count": 9,
   "id": "4b4b92d4",
   "metadata": {},
   "outputs": [],
   "source": [
    "#index again\n",
    "\n",
    "# bam='/mG_REP1.nodups.mapq30.t2.sorted.reducedchroms.sorted.bam'\n",
    "# !bsub -q short -W 08:00 -n 4 -R \"span[hosts=1]\" -R \"rusage[mem=8000]\" \\\n",
    "#         \"samtools index $bam\"\n",
    "    "
   ]
  },
  {
   "cell_type": "markdown",
   "id": "2b196227",
   "metadata": {},
   "source": [
    "# <120bp reads (can center for peak calling)\n"
   ]
  },
  {
   "cell_type": "code",
   "execution_count": 15,
   "id": "a0d00524",
   "metadata": {},
   "outputs": [],
   "source": [
    "#if desired keep only < 120bp frags\n",
    "\n",
    "# bam='/mG_REP1.nodups.mapq30.t2.sorted.reducedchroms.sorted.bam'\n",
    "# out='/mG_REP1.nodups.mapq30.t2.sorted.reducedchroms.sorted.FL120.bam'\n",
    "# !samtools view -h $bam | awk 'substr($0,1,1)==\"@\" || ($9>= 0 && $9<=120) || ($9<=0 && $9>=-120)' | samtools view -b > $out\n"
   ]
  },
  {
   "cell_type": "code",
   "execution_count": 16,
   "id": "dea2e95e",
   "metadata": {},
   "outputs": [
    {
     "name": "stdout",
     "output_type": "stream",
     "text": [
      "Job <156926> is submitted to queue <short>.\r\n"
     ]
    }
   ],
   "source": [
    "#sort again\n",
    "\n",
    "# bam='/mG_REP1.nodups.mapq30.t2.sorted.reducedchroms.sorted.FL120.bam'\n",
    "# out='mG_REP1.nodups.mapq30.t2.sorted.reducedchroms.sorted.FL120.sorted.bam'\n",
    "# !bsub -q short -W 08:00 -n 4 -R \"span[hosts=1]\" -R \"rusage[mem=8000]\" \\\n",
    "#         \"samtools sort $bam > $out\"\n",
    "    "
   ]
  },
  {
   "cell_type": "code",
   "execution_count": 18,
   "id": "29a8282b",
   "metadata": {},
   "outputs": [
    {
     "name": "stdout",
     "output_type": "stream",
     "text": [
      "Job <156974> is submitted to queue <short>.\r\n"
     ]
    }
   ],
   "source": [
    "#index again\n",
    "\n",
    "# bam='/mG_REP1.nodups.mapq30.t2.sorted.reducedchroms.sorted.FL120.sorted.bam'\n",
    "# !bsub -q short -W 08:00 -n 4 -R \"span[hosts=1]\" -R \"rusage[mem=8000]\" \\\n",
    "#         \"samtools index $bam\"\n",
    "    "
   ]
  },
  {
   "cell_type": "markdown",
   "id": "0c68531a",
   "metadata": {},
   "source": [
    "# single end bed for peak calling: keep ends"
   ]
  },
  {
   "cell_type": "code",
   "execution_count": 10,
   "id": "0987d1a7",
   "metadata": {},
   "outputs": [
    {
     "name": "stdout",
     "output_type": "stream",
     "text": [
      "Job <447821> is submitted to queue <short>.\n"
     ]
    }
   ],
   "source": [
    "#make single end bed. the samtoolsflags uneccessary given the above filtering steps\n",
    "\n",
    "# bam='/pM_REP2.nodups.mapq30.t2.sorted.reducedchroms.sorted.bam'\n",
    "# out='/pM_REP2.reducedchroms.sorted.bed'\n",
    "# !bsub -q short -W 08:00 -n 4 -R \"span[hosts=1]\" -R \"rusage[mem=8000]\" \\\n",
    "#         \"samtools view -bf 0x2 $bam | bedtools bamtobed -i stdin >| $out\"\n"
   ]
  },
  {
   "cell_type": "markdown",
   "id": "713439c4-abb8-40b7-97be-a37874e5d9bc",
   "metadata": {},
   "source": [
    "# shift reads for tn5"
   ]
  },
  {
   "cell_type": "code",
   "execution_count": 10,
   "id": "f66701b7",
   "metadata": {},
   "outputs": [],
   "source": [
    "\n",
    "#!cat /Mp.reducedchroms.sorted.bed | awk -F $'\\t' 'BEGIN {OFS = FS}{ if ($6 == \"+\") {$2= $2 + 4} else if ($6 == \"-\") {$3 = $3 - 5} print $0}' >| /Mp.reducedchroms.sorted.p4m5.bed\n",
    "\n",
    "##for coverage, keep only end, so make 2nd step:\n",
    "#!cat /Mp.reducedchroms.sorted.p4m5.bed | awk -F $'\\t' 'BEGIN {OFS = FS}{ if ($6 == \"+\") {$2= $2-1;$3 = $2 + 2;} else if ($6 == \"-\") {$3 = $3 + 1;$2 = $3 - 2;} print $0}' >| Mp.reducedchroms.sorted.p4m5_ends.bed\n",
    "\n"
   ]
  },
  {
   "cell_type": "markdown",
   "id": "89577141",
   "metadata": {},
   "source": [
    "# make pooled mitotic set"
   ]
  },
  {
   "cell_type": "code",
   "execution_count": 12,
   "id": "66d0e46c",
   "metadata": {},
   "outputs": [],
   "source": [
    "#sort -k1,1 -k2,2n mM_R1.reducedchroms.sorted.p4m5.bed pM_R1.reducedchroms.sorted.p4m5.bed > MR1.reducedchroms.sorted.p4m5.bed\n",
    "#sort -k1,1 -k2,2n mM_R2.reducedchroms.sorted.p4m5.bed pM_R2.reducedchroms.sorted.p4m5.bed > MR2.reducedchroms.sorted.p4m5.bed\n",
    "#sort -k1,1 -k2,2n mMp.reducedchroms.sorted.p4m5.sorted.bed pMp.reducedchroms.sorted.p4m5.sorted.bed > Mp.reducedchroms.sorted.p4m5.sorted.bed\n"
   ]
  },
  {
   "cell_type": "markdown",
   "id": "21d7a933",
   "metadata": {},
   "source": [
    "# make bigwigs scaled to 10E6 reads\n"
   ]
  },
  {
   "cell_type": "code",
   "execution_count": 13,
   "id": "bab318d4-4577-4563-9b55-03817e4106c3",
   "metadata": {},
   "outputs": [],
   "source": [
    "  # 191456639 pG_REP1.reducedchroms.sorted.p4m5.ends.bed 0.05223114775351301\n",
    "  # 146370798 pG_REP2.reducedchroms.sorted.p4m5.ends.bed 0.06831963845684574\n",
    "  # 200086671 pM_REP1.reducedchroms.sorted.p4m5.ends.bed 0.04997834163576043\n",
    "  # 117654257 pM_REP2.reducedchroms.sorted.p4m5.ends.bed 0.0849947996356817\n",
    "  # 184887917 mG_REP1.reducedchroms.sorted.p4m5.ends.bed 0.054086822774903134\n",
    "  # 163581501 mG_REP2.reducedchroms.sorted.p4m5.ends.bed 0.06113160680681124\n",
    "  # 147253247 mM_REP1.reducedchroms.sorted.p4m5.ends.bed 0.06791021728709316\n",
    "  # 151592262 mM_REP2.reducedchroms.sorted.p4m5.ends.bed 0.06596642775869391\n"
   ]
  },
  {
   "cell_type": "code",
   "execution_count": 14,
   "id": "439e7000",
   "metadata": {},
   "outputs": [],
   "source": [
    "#genomecov bed\n",
    "\n",
    "# bed='/mM_REP2.reducedchroms.sorted.p4m5.ends.bed'\n",
    "# chroms='/hg38.reduced.chrom.sizes'\n",
    "# out='/mM_REP2.genomcov.scaled.bed'\n",
    "# !bsub -q short -W 04:00 -n 2 -R \"span[hosts=1]\" -R \"rusage[mem=8000]\" \\\n",
    "#         \"bedtools genomecov -bg -scale 0.06596642775869391 -i $bed -g $chroms > $out\" \n"
   ]
  },
  {
   "cell_type": "code",
   "execution_count": 15,
   "id": "b2a50402-aede-4cdf-9ef6-64a30b24c2dd",
   "metadata": {},
   "outputs": [],
   "source": [
    "#sort genomecov bed\n",
    "\n",
    "# bed1='/mM_REP2.genomcov.scaled.bed'\n",
    "# out='/mM_REP2.genomcov.scaled.sorted.bed'\n",
    "# !bsub -q short -W 04:00 -n 2 -R \"span[hosts=1]\" -R \"rusage[mem=8000]\" \\\n",
    "#         \"sort -k1,1 -k2,2n $bed1 > $out\"\n"
   ]
  },
  {
   "cell_type": "code",
   "execution_count": 16,
   "id": "2840a742",
   "metadata": {},
   "outputs": [],
   "source": [
    "#bedGraphToBigWig myFile_sorted.bedgraph myChrom.sizes myBigWig.bw\n",
    "\n"
   ]
  },
  {
   "cell_type": "markdown",
   "id": "c73e188e",
   "metadata": {},
   "source": [
    "# call peaks c MACS3"
   ]
  },
  {
   "cell_type": "code",
   "execution_count": 10,
   "id": "573e1ee7",
   "metadata": {},
   "outputs": [
    {
     "name": "stdout",
     "output_type": "stream",
     "text": [
      "Job <335956> is submitted to queue <short>.\r\n"
     ]
    }
   ],
   "source": [
    "#callpeak (narrow) shift and extend\n",
    "\n",
    "# bed='/Mp.reducedchroms.sorted.p4m5.sorted.bed'\n",
    "# outdir='/macs3peaks'\n",
    "# !bsub -q short -W 08:00 -n 4 -R \"span[hosts=1]\" -R \"rusage[mem=8000]\" \\\n",
    "#         \"macs3 callpeak -t $bed -g hs -f BED --nomodel --shift -75 --extsize 150 --name allM --outdir $outdir\"\n",
    "\n"
   ]
  },
  {
   "cell_type": "markdown",
   "id": "a61fac10-4784-4068-bde6-3e61691fcf47",
   "metadata": {},
   "source": [
    "#   coverage at peaks\n"
   ]
  },
  {
   "cell_type": "markdown",
   "id": "d189b2a3-0a20-4834-a38f-514ff49c159d",
   "metadata": {},
   "source": [
    "# peakscov.py"
   ]
  },
  {
   "cell_type": "code",
   "execution_count": 20,
   "id": "c6509fd4-04b6-4b8a-99b0-8778a7f8b996",
   "metadata": {},
   "outputs": [],
   "source": [
    "#peakscov.py\n",
    "\n",
    "# import bioframe\n",
    "# import pandas as pd\n",
    "# import numpy as np\n",
    "# import scipy\n",
    "# import sys\n",
    "# import os\n",
    "\n",
    "# arguments=sys.argv\n",
    "\n",
    "# directory=arguments[1]\n",
    "# cov=arguments[2]\n",
    "# peaks=arguments[3]\n",
    "# outdir=arguments[4]\n",
    "# logdir=arguments[5]\n",
    "\n",
    "# f = open(f'{logdir}/{cov}.log','w')\n",
    "# f.close()\n",
    "# f=open(f'{logdir}/{cov}.log','a')\n",
    "# f.write(\"go\\n\")\n",
    "# f.flush()\n",
    "\n",
    "# ##first cov\n",
    "# #files\n",
    "# cov_df=pd.read_csv(f'{directory}/{cov}/{cov}.genomcov.raw.bed',sep='\\t',names=['chrom','start','end','cov'])\n",
    "# peaks_df=pd.read_csv(f'{peaks}',sep='\\t',names=['chrom','start','end','Mscore','mGscore','pGscore'])\n",
    "# f.write(\"files in\\n\")\n",
    "# f.flush()\n",
    "\n",
    "# #overlap peaks with cov\n",
    "# peaks_cov=bioframe.overlap(peaks_df,cov_df,how='left',suffixes=('','_cov'))\n",
    "# f.write(\"overlap\\n\")\n",
    "# f.flush()\n",
    "\n",
    "# #calculate cov at peaks\n",
    "# cov_mat = peaks_cov.groupby(['chrom','start','end'])['cov_cov'].sum()\n",
    "\n",
    "# f.write(\"counts\\n\")\n",
    "# f.flush()\n",
    "\n",
    "# #save\n",
    "# cov_mat_df = cov_mat.reset_index()\n",
    "# cov_mat_df.to_csv(f'{outdir}/{cov}.out', sep='\\t', index=False)\n",
    "\n",
    "# f.write(\"fini\\n\")\n",
    "# f.close()\n"
   ]
  },
  {
   "cell_type": "code",
   "execution_count": 21,
   "id": "fe55afc6-ce22-42fb-9e74-ead673ddf678",
   "metadata": {},
   "outputs": [],
   "source": [
    "#import os\n",
    "\n",
    "# #1\n",
    "# directory='/coverage/files'\n",
    "# #3\n",
    "# peaks='/union_R1R3_narrowPeaks_bothfirst_pmit.sorted.bed'\n",
    "# #4\n",
    "# outdir='/coverage/cov_allpeaks'\n",
    "# #5\n",
    "# logdir='/coverage/log'\n",
    "\n",
    "# for cov in os.listdir(directory):\n",
    "#     if os.path.isdir(os.path.join(directory,cov)):\n",
    "#         !bsub -q short -W 04:00 -n 4 -R \"span[hosts=1]\" -R rusage[mem=24000] \\\n",
    "#             \"source activate open2c2v2; python /coverage/peakscov.py {directory} {cov} {peaks} {outdir} {logdir}\"\n"
   ]
  },
  {
   "cell_type": "code",
   "execution_count": null,
   "id": "661d9cb8-3e3d-4088-b336-a2b8e1312b99",
   "metadata": {},
   "outputs": [],
   "source": []
  }
 ],
 "metadata": {
  "kernelspec": {
   "display_name": "Python 3 (ipykernel)",
   "language": "python",
   "name": "python3"
  },
  "language_info": {
   "codemirror_mode": {
    "name": "ipython",
    "version": 3
   },
   "file_extension": ".py",
   "mimetype": "text/x-python",
   "name": "python",
   "nbconvert_exporter": "python",
   "pygments_lexer": "ipython3",
   "version": "3.9.19"
  }
 },
 "nbformat": 4,
 "nbformat_minor": 5
}
